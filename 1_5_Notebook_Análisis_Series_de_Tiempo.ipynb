{
  "nbformat": 4,
  "nbformat_minor": 0,
  "metadata": {
    "colab": {
      "provenance": [],
      "include_colab_link": true
    },
    "kernelspec": {
      "name": "python3",
      "display_name": "Python 3"
    },
    "language_info": {
      "name": "python"
    }
  },
  "cells": [
    {
      "cell_type": "markdown",
      "metadata": {
        "id": "view-in-github",
        "colab_type": "text"
      },
      "source": [
        "<a href=\"https://colab.research.google.com/github/salidego/Talento-Tech/blob/main/1_5_Notebook_An%C3%A1lisis_Series_de_Tiempo.ipynb\" target=\"_parent\"><img src=\"https://colab.research.google.com/assets/colab-badge.svg\" alt=\"Open In Colab\"/></a>"
      ]
    },
    {
      "cell_type": "markdown",
      "source": [
        "# Series de tiempo"
      ],
      "metadata": {
        "id": "ONRaIGddcWrY"
      }
    },
    {
      "cell_type": "code",
      "source": [
        "import matplotlib.pyplot as plt\n",
        "import pandas as pd\n",
        "import numpy as np\n",
        "from matplotlib.dates import DateFormatter\n"
      ],
      "metadata": {
        "id": "v899kG5_E_Ag"
      },
      "execution_count": 1,
      "outputs": []
    },
    {
      "cell_type": "code",
      "source": [
        "dates = pd.date_range(start= '2023-01-01', periods=100)\n",
        "\n",
        "values = np.random.rand(100).cumsum()#Genera datos sinteticos\n",
        "\n",
        "data = pd.DataFrame({'Date': dates, 'Value': values})\n",
        "data\n"
      ],
      "metadata": {
        "colab": {
          "base_uri": "https://localhost:8080/",
          "height": 424
        },
        "id": "Rqr8T08t-8GQ",
        "outputId": "85e4d569-f328-4d9d-ebb1-dfa5ffe5d3ae"
      },
      "execution_count": 2,
      "outputs": [
        {
          "output_type": "execute_result",
          "data": {
            "text/plain": [
              "         Date      Value\n",
              "0  2023-01-01   0.780282\n",
              "1  2023-01-02   1.345117\n",
              "2  2023-01-03   1.345362\n",
              "3  2023-01-04   2.186614\n",
              "4  2023-01-05   2.371740\n",
              "..        ...        ...\n",
              "95 2023-04-06  50.296687\n",
              "96 2023-04-07  50.592745\n",
              "97 2023-04-08  50.997063\n",
              "98 2023-04-09  51.799187\n",
              "99 2023-04-10  52.656610\n",
              "\n",
              "[100 rows x 2 columns]"
            ],
            "text/html": [
              "\n",
              "  <div id=\"df-eb54e061-fbad-404e-9bd7-8f9aa7267294\" class=\"colab-df-container\">\n",
              "    <div>\n",
              "<style scoped>\n",
              "    .dataframe tbody tr th:only-of-type {\n",
              "        vertical-align: middle;\n",
              "    }\n",
              "\n",
              "    .dataframe tbody tr th {\n",
              "        vertical-align: top;\n",
              "    }\n",
              "\n",
              "    .dataframe thead th {\n",
              "        text-align: right;\n",
              "    }\n",
              "</style>\n",
              "<table border=\"1\" class=\"dataframe\">\n",
              "  <thead>\n",
              "    <tr style=\"text-align: right;\">\n",
              "      <th></th>\n",
              "      <th>Date</th>\n",
              "      <th>Value</th>\n",
              "    </tr>\n",
              "  </thead>\n",
              "  <tbody>\n",
              "    <tr>\n",
              "      <th>0</th>\n",
              "      <td>2023-01-01</td>\n",
              "      <td>0.780282</td>\n",
              "    </tr>\n",
              "    <tr>\n",
              "      <th>1</th>\n",
              "      <td>2023-01-02</td>\n",
              "      <td>1.345117</td>\n",
              "    </tr>\n",
              "    <tr>\n",
              "      <th>2</th>\n",
              "      <td>2023-01-03</td>\n",
              "      <td>1.345362</td>\n",
              "    </tr>\n",
              "    <tr>\n",
              "      <th>3</th>\n",
              "      <td>2023-01-04</td>\n",
              "      <td>2.186614</td>\n",
              "    </tr>\n",
              "    <tr>\n",
              "      <th>4</th>\n",
              "      <td>2023-01-05</td>\n",
              "      <td>2.371740</td>\n",
              "    </tr>\n",
              "    <tr>\n",
              "      <th>...</th>\n",
              "      <td>...</td>\n",
              "      <td>...</td>\n",
              "    </tr>\n",
              "    <tr>\n",
              "      <th>95</th>\n",
              "      <td>2023-04-06</td>\n",
              "      <td>50.296687</td>\n",
              "    </tr>\n",
              "    <tr>\n",
              "      <th>96</th>\n",
              "      <td>2023-04-07</td>\n",
              "      <td>50.592745</td>\n",
              "    </tr>\n",
              "    <tr>\n",
              "      <th>97</th>\n",
              "      <td>2023-04-08</td>\n",
              "      <td>50.997063</td>\n",
              "    </tr>\n",
              "    <tr>\n",
              "      <th>98</th>\n",
              "      <td>2023-04-09</td>\n",
              "      <td>51.799187</td>\n",
              "    </tr>\n",
              "    <tr>\n",
              "      <th>99</th>\n",
              "      <td>2023-04-10</td>\n",
              "      <td>52.656610</td>\n",
              "    </tr>\n",
              "  </tbody>\n",
              "</table>\n",
              "<p>100 rows × 2 columns</p>\n",
              "</div>\n",
              "    <div class=\"colab-df-buttons\">\n",
              "\n",
              "  <div class=\"colab-df-container\">\n",
              "    <button class=\"colab-df-convert\" onclick=\"convertToInteractive('df-eb54e061-fbad-404e-9bd7-8f9aa7267294')\"\n",
              "            title=\"Convert this dataframe to an interactive table.\"\n",
              "            style=\"display:none;\">\n",
              "\n",
              "  <svg xmlns=\"http://www.w3.org/2000/svg\" height=\"24px\" viewBox=\"0 -960 960 960\">\n",
              "    <path d=\"M120-120v-720h720v720H120Zm60-500h600v-160H180v160Zm220 220h160v-160H400v160Zm0 220h160v-160H400v160ZM180-400h160v-160H180v160Zm440 0h160v-160H620v160ZM180-180h160v-160H180v160Zm440 0h160v-160H620v160Z\"/>\n",
              "  </svg>\n",
              "    </button>\n",
              "\n",
              "  <style>\n",
              "    .colab-df-container {\n",
              "      display:flex;\n",
              "      gap: 12px;\n",
              "    }\n",
              "\n",
              "    .colab-df-convert {\n",
              "      background-color: #E8F0FE;\n",
              "      border: none;\n",
              "      border-radius: 50%;\n",
              "      cursor: pointer;\n",
              "      display: none;\n",
              "      fill: #1967D2;\n",
              "      height: 32px;\n",
              "      padding: 0 0 0 0;\n",
              "      width: 32px;\n",
              "    }\n",
              "\n",
              "    .colab-df-convert:hover {\n",
              "      background-color: #E2EBFA;\n",
              "      box-shadow: 0px 1px 2px rgba(60, 64, 67, 0.3), 0px 1px 3px 1px rgba(60, 64, 67, 0.15);\n",
              "      fill: #174EA6;\n",
              "    }\n",
              "\n",
              "    .colab-df-buttons div {\n",
              "      margin-bottom: 4px;\n",
              "    }\n",
              "\n",
              "    [theme=dark] .colab-df-convert {\n",
              "      background-color: #3B4455;\n",
              "      fill: #D2E3FC;\n",
              "    }\n",
              "\n",
              "    [theme=dark] .colab-df-convert:hover {\n",
              "      background-color: #434B5C;\n",
              "      box-shadow: 0px 1px 3px 1px rgba(0, 0, 0, 0.15);\n",
              "      filter: drop-shadow(0px 1px 2px rgba(0, 0, 0, 0.3));\n",
              "      fill: #FFFFFF;\n",
              "    }\n",
              "  </style>\n",
              "\n",
              "    <script>\n",
              "      const buttonEl =\n",
              "        document.querySelector('#df-eb54e061-fbad-404e-9bd7-8f9aa7267294 button.colab-df-convert');\n",
              "      buttonEl.style.display =\n",
              "        google.colab.kernel.accessAllowed ? 'block' : 'none';\n",
              "\n",
              "      async function convertToInteractive(key) {\n",
              "        const element = document.querySelector('#df-eb54e061-fbad-404e-9bd7-8f9aa7267294');\n",
              "        const dataTable =\n",
              "          await google.colab.kernel.invokeFunction('convertToInteractive',\n",
              "                                                    [key], {});\n",
              "        if (!dataTable) return;\n",
              "\n",
              "        const docLinkHtml = 'Like what you see? Visit the ' +\n",
              "          '<a target=\"_blank\" href=https://colab.research.google.com/notebooks/data_table.ipynb>data table notebook</a>'\n",
              "          + ' to learn more about interactive tables.';\n",
              "        element.innerHTML = '';\n",
              "        dataTable['output_type'] = 'display_data';\n",
              "        await google.colab.output.renderOutput(dataTable, element);\n",
              "        const docLink = document.createElement('div');\n",
              "        docLink.innerHTML = docLinkHtml;\n",
              "        element.appendChild(docLink);\n",
              "      }\n",
              "    </script>\n",
              "  </div>\n",
              "\n",
              "\n",
              "<div id=\"df-4c3d774d-579e-4082-8909-b3844aea42fa\">\n",
              "  <button class=\"colab-df-quickchart\" onclick=\"quickchart('df-4c3d774d-579e-4082-8909-b3844aea42fa')\"\n",
              "            title=\"Suggest charts\"\n",
              "            style=\"display:none;\">\n",
              "\n",
              "<svg xmlns=\"http://www.w3.org/2000/svg\" height=\"24px\"viewBox=\"0 0 24 24\"\n",
              "     width=\"24px\">\n",
              "    <g>\n",
              "        <path d=\"M19 3H5c-1.1 0-2 .9-2 2v14c0 1.1.9 2 2 2h14c1.1 0 2-.9 2-2V5c0-1.1-.9-2-2-2zM9 17H7v-7h2v7zm4 0h-2V7h2v10zm4 0h-2v-4h2v4z\"/>\n",
              "    </g>\n",
              "</svg>\n",
              "  </button>\n",
              "\n",
              "<style>\n",
              "  .colab-df-quickchart {\n",
              "      --bg-color: #E8F0FE;\n",
              "      --fill-color: #1967D2;\n",
              "      --hover-bg-color: #E2EBFA;\n",
              "      --hover-fill-color: #174EA6;\n",
              "      --disabled-fill-color: #AAA;\n",
              "      --disabled-bg-color: #DDD;\n",
              "  }\n",
              "\n",
              "  [theme=dark] .colab-df-quickchart {\n",
              "      --bg-color: #3B4455;\n",
              "      --fill-color: #D2E3FC;\n",
              "      --hover-bg-color: #434B5C;\n",
              "      --hover-fill-color: #FFFFFF;\n",
              "      --disabled-bg-color: #3B4455;\n",
              "      --disabled-fill-color: #666;\n",
              "  }\n",
              "\n",
              "  .colab-df-quickchart {\n",
              "    background-color: var(--bg-color);\n",
              "    border: none;\n",
              "    border-radius: 50%;\n",
              "    cursor: pointer;\n",
              "    display: none;\n",
              "    fill: var(--fill-color);\n",
              "    height: 32px;\n",
              "    padding: 0;\n",
              "    width: 32px;\n",
              "  }\n",
              "\n",
              "  .colab-df-quickchart:hover {\n",
              "    background-color: var(--hover-bg-color);\n",
              "    box-shadow: 0 1px 2px rgba(60, 64, 67, 0.3), 0 1px 3px 1px rgba(60, 64, 67, 0.15);\n",
              "    fill: var(--button-hover-fill-color);\n",
              "  }\n",
              "\n",
              "  .colab-df-quickchart-complete:disabled,\n",
              "  .colab-df-quickchart-complete:disabled:hover {\n",
              "    background-color: var(--disabled-bg-color);\n",
              "    fill: var(--disabled-fill-color);\n",
              "    box-shadow: none;\n",
              "  }\n",
              "\n",
              "  .colab-df-spinner {\n",
              "    border: 2px solid var(--fill-color);\n",
              "    border-color: transparent;\n",
              "    border-bottom-color: var(--fill-color);\n",
              "    animation:\n",
              "      spin 1s steps(1) infinite;\n",
              "  }\n",
              "\n",
              "  @keyframes spin {\n",
              "    0% {\n",
              "      border-color: transparent;\n",
              "      border-bottom-color: var(--fill-color);\n",
              "      border-left-color: var(--fill-color);\n",
              "    }\n",
              "    20% {\n",
              "      border-color: transparent;\n",
              "      border-left-color: var(--fill-color);\n",
              "      border-top-color: var(--fill-color);\n",
              "    }\n",
              "    30% {\n",
              "      border-color: transparent;\n",
              "      border-left-color: var(--fill-color);\n",
              "      border-top-color: var(--fill-color);\n",
              "      border-right-color: var(--fill-color);\n",
              "    }\n",
              "    40% {\n",
              "      border-color: transparent;\n",
              "      border-right-color: var(--fill-color);\n",
              "      border-top-color: var(--fill-color);\n",
              "    }\n",
              "    60% {\n",
              "      border-color: transparent;\n",
              "      border-right-color: var(--fill-color);\n",
              "    }\n",
              "    80% {\n",
              "      border-color: transparent;\n",
              "      border-right-color: var(--fill-color);\n",
              "      border-bottom-color: var(--fill-color);\n",
              "    }\n",
              "    90% {\n",
              "      border-color: transparent;\n",
              "      border-bottom-color: var(--fill-color);\n",
              "    }\n",
              "  }\n",
              "</style>\n",
              "\n",
              "  <script>\n",
              "    async function quickchart(key) {\n",
              "      const quickchartButtonEl =\n",
              "        document.querySelector('#' + key + ' button');\n",
              "      quickchartButtonEl.disabled = true;  // To prevent multiple clicks.\n",
              "      quickchartButtonEl.classList.add('colab-df-spinner');\n",
              "      try {\n",
              "        const charts = await google.colab.kernel.invokeFunction(\n",
              "            'suggestCharts', [key], {});\n",
              "      } catch (error) {\n",
              "        console.error('Error during call to suggestCharts:', error);\n",
              "      }\n",
              "      quickchartButtonEl.classList.remove('colab-df-spinner');\n",
              "      quickchartButtonEl.classList.add('colab-df-quickchart-complete');\n",
              "    }\n",
              "    (() => {\n",
              "      let quickchartButtonEl =\n",
              "        document.querySelector('#df-4c3d774d-579e-4082-8909-b3844aea42fa button');\n",
              "      quickchartButtonEl.style.display =\n",
              "        google.colab.kernel.accessAllowed ? 'block' : 'none';\n",
              "    })();\n",
              "  </script>\n",
              "</div>\n",
              "\n",
              "  <div id=\"id_39f1ba0f-0ae1-4d90-8fe4-06787b632256\">\n",
              "    <style>\n",
              "      .colab-df-generate {\n",
              "        background-color: #E8F0FE;\n",
              "        border: none;\n",
              "        border-radius: 50%;\n",
              "        cursor: pointer;\n",
              "        display: none;\n",
              "        fill: #1967D2;\n",
              "        height: 32px;\n",
              "        padding: 0 0 0 0;\n",
              "        width: 32px;\n",
              "      }\n",
              "\n",
              "      .colab-df-generate:hover {\n",
              "        background-color: #E2EBFA;\n",
              "        box-shadow: 0px 1px 2px rgba(60, 64, 67, 0.3), 0px 1px 3px 1px rgba(60, 64, 67, 0.15);\n",
              "        fill: #174EA6;\n",
              "      }\n",
              "\n",
              "      [theme=dark] .colab-df-generate {\n",
              "        background-color: #3B4455;\n",
              "        fill: #D2E3FC;\n",
              "      }\n",
              "\n",
              "      [theme=dark] .colab-df-generate:hover {\n",
              "        background-color: #434B5C;\n",
              "        box-shadow: 0px 1px 3px 1px rgba(0, 0, 0, 0.15);\n",
              "        filter: drop-shadow(0px 1px 2px rgba(0, 0, 0, 0.3));\n",
              "        fill: #FFFFFF;\n",
              "      }\n",
              "    </style>\n",
              "    <button class=\"colab-df-generate\" onclick=\"generateWithVariable('data')\"\n",
              "            title=\"Generate code using this dataframe.\"\n",
              "            style=\"display:none;\">\n",
              "\n",
              "  <svg xmlns=\"http://www.w3.org/2000/svg\" height=\"24px\"viewBox=\"0 0 24 24\"\n",
              "       width=\"24px\">\n",
              "    <path d=\"M7,19H8.4L18.45,9,17,7.55,7,17.6ZM5,21V16.75L18.45,3.32a2,2,0,0,1,2.83,0l1.4,1.43a1.91,1.91,0,0,1,.58,1.4,1.91,1.91,0,0,1-.58,1.4L9.25,21ZM18.45,9,17,7.55Zm-12,3A5.31,5.31,0,0,0,4.9,8.1,5.31,5.31,0,0,0,1,6.5,5.31,5.31,0,0,0,4.9,4.9,5.31,5.31,0,0,0,6.5,1,5.31,5.31,0,0,0,8.1,4.9,5.31,5.31,0,0,0,12,6.5,5.46,5.46,0,0,0,6.5,12Z\"/>\n",
              "  </svg>\n",
              "    </button>\n",
              "    <script>\n",
              "      (() => {\n",
              "      const buttonEl =\n",
              "        document.querySelector('#id_39f1ba0f-0ae1-4d90-8fe4-06787b632256 button.colab-df-generate');\n",
              "      buttonEl.style.display =\n",
              "        google.colab.kernel.accessAllowed ? 'block' : 'none';\n",
              "\n",
              "      buttonEl.onclick = () => {\n",
              "        google.colab.notebook.generateWithVariable('data');\n",
              "      }\n",
              "      })();\n",
              "    </script>\n",
              "  </div>\n",
              "\n",
              "    </div>\n",
              "  </div>\n"
            ],
            "application/vnd.google.colaboratory.intrinsic+json": {
              "type": "dataframe",
              "variable_name": "data",
              "summary": "{\n  \"name\": \"data\",\n  \"rows\": 100,\n  \"fields\": [\n    {\n      \"column\": \"Date\",\n      \"properties\": {\n        \"dtype\": \"date\",\n        \"min\": \"2023-01-01 00:00:00\",\n        \"max\": \"2023-04-10 00:00:00\",\n        \"num_unique_values\": 100,\n        \"samples\": [\n          \"2023-03-25 00:00:00\",\n          \"2023-02-23 00:00:00\",\n          \"2023-03-12 00:00:00\"\n        ],\n        \"semantic_type\": \"\",\n        \"description\": \"\"\n      }\n    },\n    {\n      \"column\": \"Value\",\n      \"properties\": {\n        \"dtype\": \"number\",\n        \"std\": 15.159528127072806,\n        \"min\": 0.780281781884616,\n        \"max\": 52.65660963980197,\n        \"num_unique_values\": 100,\n        \"samples\": [\n          45.29080685207802,\n          30.589606050144944,\n          38.98821516759082\n        ],\n        \"semantic_type\": \"\",\n        \"description\": \"\"\n      }\n    }\n  ]\n}"
            }
          },
          "metadata": {},
          "execution_count": 2
        }
      ]
    },
    {
      "cell_type": "code",
      "source": [
        "#Crear Gráfico de líneas\n",
        "fig, ax = plt.subplots(figsize=(10,6))\n",
        "\n",
        "ax.plot(data['Date'], data['Value'], color = 'green')\n",
        "\n",
        "plt.xticks(rotation=45)\n",
        "\n",
        "plt.title('Serie de tiempo con formato en las fechas')\n",
        "plt.xlabel('Date')\n",
        "plt.ylabel('Value')\n",
        "\n",
        "plt.show()"
      ],
      "metadata": {
        "colab": {
          "base_uri": "https://localhost:8080/",
          "height": 617
        },
        "id": "JRuHnf40FC8a",
        "outputId": "1bb5d8e1-cf3b-4d66-c2db-34c7cbeb497b"
      },
      "execution_count": 3,
      "outputs": [
        {
          "output_type": "display_data",
          "data": {
            "text/plain": [
              "<Figure size 1000x600 with 1 Axes>"
            ],
            "image/png": "[encoded data removed]"
          },
          "metadata": {}
        }
      ]
    },
    {
      "cell_type": "code",
      "source": [
        "dates = pd.date_range(start='2023-01-01', periods=12, freq='ME')\n",
        "sales = np.random.randint(1000, 5000, size=12)\n",
        "\n",
        "sales_data = pd.DataFrame=({'Date': dates, 'Sales': sales})\n",
        "\n",
        "plt.plot(sales_data['Date'],sales_data['Sales'], marker='o',\n",
        "         linestyle = '--', label = 'Ventas mensuales')\n",
        "\n",
        "plt.gca().xaxis.set_major_formatter(DateFormatter('%b %Y'))\n",
        "\n",
        "plt.xticks(rotation=45)\n",
        "\n",
        "plt.title('Análisis de ventas mensuales')\n",
        "plt.xlabel('Date')\n",
        "plt.ylabel('Sales')\n",
        "\n",
        "plt.legend()\n",
        "\n",
        "plt.tight_layout()\n",
        "\n",
        "plt.show()"
      ],
      "metadata": {
        "colab": {
          "base_uri": "https://localhost:8080/",
          "height": 487
        },
        "id": "V2EEXyDRFFLc",
        "outputId": "a8a5cf90-00d2-40d0-d7f5-79e1be03ce93"
      },
      "execution_count": 4,
      "outputs": [
        {
          "output_type": "display_data",
          "data": {
            "text/plain": [
              "<Figure size 640x480 with 1 Axes>"
            ],
            "image/png": "[encoded data removed]"
          },
          "metadata": {}
        }
      ]
    },
    {
      "cell_type": "code",
      "source": [
        "#Libreria con dataset de pruebas\n",
        "!pip install pydataset\n",
        "from pydataset import data"
      ],
      "metadata": {
        "id": "-NKJu-v-YZRt",
        "colab": {
          "base_uri": "https://localhost:8080/"
        },
        "outputId": "9fb18069-f087-48f4-d9f1-2af4b818a257"
      },
      "execution_count": 5,
      "outputs": [
        {
          "output_type": "stream",
          "name": "stdout",
          "text": [
            "Collecting pydataset\n",
            "  Downloading pydataset-0.2.0.tar.gz (15.9 MB)\n",
            "\u001b[2K     \u001b[90m━━━━━━━━━━━━━━━━━━━━━━━━━━━━━━━━━━━━━━━━\u001b[0m \u001b[32m15.9/15.9 MB\u001b[0m \u001b[31m57.5 MB/s\u001b[0m eta \u001b[36m0:00:00\u001b[0m\n",
            "\u001b[?25h  Preparing metadata (setup.py) ... \u001b[?25l\u001b[?25hdone\n",
            "Requirement already satisfied: pandas in /usr/local/lib/python3.10/dist-packages (from pydataset) (2.2.2)\n",
            "Requirement already satisfied: numpy>=1.22.4 in /usr/local/lib/python3.10/dist-packages (from pandas->pydataset) (1.26.4)\n",
            "Requirement already satisfied: python-dateutil>=2.8.2 in /usr/local/lib/python3.10/dist-packages (from pandas->pydataset) (2.8.2)\n",
            "Requirement already satisfied: pytz>=2020.1 in /usr/local/lib/python3.10/dist-packages (from pandas->pydataset) (2024.2)\n",
            "Requirement already satisfied: tzdata>=2022.7 in /usr/local/lib/python3.10/dist-packages (from pandas->pydataset) (2024.2)\n",
            "Requirement already satisfied: six>=1.5 in /usr/local/lib/python3.10/dist-packages (from python-dateutil>=2.8.2->pandas->pydataset) (1.16.0)\n",
            "Building wheels for collected packages: pydataset\n",
            "  Building wheel for pydataset (setup.py) ... \u001b[?25l\u001b[?25hdone\n",
            "  Created wheel for pydataset: filename=pydataset-0.2.0-py3-none-any.whl size=15939417 sha256=f10518105fb136025ba60e60bccec1139c776b31f66fbff353f3b411b53c5aab\n",
            "  Stored in directory: /root/.cache/pip/wheels/2b/83/5c/073c3755e8b7704e4677557b2055e61026c1a2342149214c13\n",
            "Successfully built pydataset\n",
            "Installing collected packages: pydataset\n",
            "Successfully installed pydataset-0.2.0\n",
            "initiated datasets repo at: /root/.pydataset/\n"
          ]
        }
      ]
    },
    {
      "cell_type": "code",
      "source": [
        "# Mostrar todos los datasets disponibles\n",
        "available_datasets = data()\n",
        "print(available_datasets)"
      ],
      "metadata": {
        "colab": {
          "base_uri": "https://localhost:8080/"
        },
        "id": "XZhte5vjYdS4",
        "outputId": "619558f1-9b92-4257-b9a1-539dbb9bf4eb"
      },
      "execution_count": 6,
      "outputs": [
        {
          "output_type": "stream",
          "name": "stdout",
          "text": [
            "        dataset_id                                             title\n",
            "0    AirPassengers       Monthly Airline Passenger Numbers 1949-1960\n",
            "1          BJsales                 Sales Data with Leading Indicator\n",
            "2              BOD                         Biochemical Oxygen Demand\n",
            "3     Formaldehyde                     Determination of Formaldehyde\n",
            "4     HairEyeColor         Hair and Eye Color of Statistics Students\n",
            "..             ...                                               ...\n",
            "752        VerbAgg                  Verbal Aggression item responses\n",
            "753           cake                 Breakage Angle of Chocolate Cakes\n",
            "754           cbpp                 Contagious bovine pleuropneumonia\n",
            "755    grouseticks  Data on red grouse ticks from Elston et al. 2001\n",
            "756     sleepstudy       Reaction times in a sleep deprivation study\n",
            "\n",
            "[757 rows x 2 columns]\n"
          ]
        }
      ]
    },
    {
      "cell_type": "code",
      "source": [
        "#Entendiendo el dataset 'co2'\n",
        "\n",
        "df = data('co2') #cargando en dataset\n",
        "print(df.head())"
      ],
      "metadata": {
        "colab": {
          "base_uri": "https://localhost:8080/"
        },
        "id": "5NN9kIqgcco0",
        "outputId": "435141ee-4f4c-4482-9d32-a8e2d15cc1ef"
      },
      "execution_count": 9,
      "outputs": [
        {
          "output_type": "stream",
          "name": "stdout",
          "text": [
            "          time     co2\n",
            "1  1959.000000  315.42\n",
            "2  1959.083333  316.31\n",
            "3  1959.166667  316.50\n",
            "4  1959.250000  317.56\n",
            "5  1959.333333  318.13\n"
          ]
        }
      ]
    },
    {
      "cell_type": "code",
      "source": [
        "print(data('co2', show_doc=True)) #Ver descripcion del dataset"
      ],
      "metadata": {
        "colab": {
          "base_uri": "https://localhost:8080/"
        },
        "id": "tPZyv27Qc6fP",
        "outputId": "ba526cba-b557-4103-9bd3-d37bd72758ce"
      },
      "execution_count": 11,
      "outputs": [
        {
          "output_type": "stream",
          "name": "stdout",
          "text": [
            "co2\n",
            "\n",
            "PyDataset Documentation (adopted from R Documentation. The displayed examples are in R)\n",
            "\n",
            "## Mauna Loa Atmospheric CO2 Concentration\n",
            "\n",
            "### Description\n",
            "\n",
            "Atmospheric concentrations of CO_2_ are expressed in parts per million (ppm)\n",
            "and reported in the preliminary 1997 SIO manometric mole fraction scale.\n",
            "\n",
            "### Usage\n",
            "\n",
            "    co2\n",
            "\n",
            "### Format\n",
            "\n",
            "A time series of 468 observations; monthly from 1959 to 1997.\n",
            "\n",
            "### Details\n",
            "\n",
            "The values for February, March and April of 1964 were missing and have been\n",
            "obtained by interpolating linearly between the values for January and May of\n",
            "1964.\n",
            "\n",
            "### Source\n",
            "\n",
            "Keeling, C. D. and Whorf, T. P., Scripps Institution of Oceanography (SIO),\n",
            "University of California, La Jolla, California USA 92093-0220.\n",
            "\n",
            "ftp://cdiac.esd.ornl.gov/pub/maunaloa-co2/maunaloa.co2.\n",
            "\n",
            "### References\n",
            "\n",
            "Cleveland, W. S. (1993) _Visualizing Data_. New Jersey: Summit Press.\n",
            "\n",
            "### Examples\n",
            "\n",
            "    require(graphics)\n",
            "    plot(co2, ylab = expression(\"Atmospheric concentration of CO\"[2]),\n",
            "         las = 1)\n",
            "    title(main = \"co2 data set\")\n",
            "\n",
            "\n",
            "None\n"
          ]
        }
      ]
    },
    {
      "cell_type": "code",
      "source": [
        "# Cargar el dataset 'co2'\n",
        "mtcars = data('co2')\n",
        "print(mtcars.head())\n"
      ],
      "metadata": {
        "colab": {
          "base_uri": "https://localhost:8080/"
        },
        "id": "f-DcBGjDfIij",
        "outputId": "02c43a87-9b6b-41f8-9465-c1c23eb61b09"
      },
      "execution_count": 12,
      "outputs": [
        {
          "output_type": "stream",
          "name": "stdout",
          "text": [
            "          time     co2\n",
            "1  1959.000000  315.42\n",
            "2  1959.083333  316.31\n",
            "3  1959.166667  316.50\n",
            "4  1959.250000  317.56\n",
            "5  1959.333333  318.13\n"
          ]
        }
      ]
    },
    {
      "cell_type": "code",
      "source": [
        "# prompt: dejar solo el año 1959.000000\n",
        "\n",
        "mtcars_1959 = mtcars[mtcars['time'] == 1959.000000]\n",
        "print(mtcars_1959)\n"
      ],
      "metadata": {
        "colab": {
          "base_uri": "https://localhost:8080/"
        },
        "id": "l0rB0F2rVm0-",
        "outputId": "d914054c-e036-40de-80fe-fc83b23eb744"
      },
      "execution_count": 14,
      "outputs": [
        {
          "output_type": "stream",
          "name": "stdout",
          "text": [
            "     time     co2\n",
            "1  1959.0  315.42\n"
          ]
        }
      ]
    },
    {
      "cell_type": "code",
      "source": [
        "\n",
        "# Filtrar por datasets que contienen \"car\"\n",
        "filtered_datasets = available_datasets[available_datasets['title'].str.contains('car', case=False)]\n",
        "print(filtered_datasets)\n",
        "\n"
      ],
      "metadata": {
        "colab": {
          "base_uri": "https://localhost:8080/"
        },
        "id": "Cta2XkmTfMZl",
        "outputId": "1d3d70ef-4bc4-48c1-d0d4-329cd7091bfa"
      },
      "execution_count": 15,
      "outputs": [
        {
          "output_type": "stream",
          "name": "stdout",
          "text": [
            "      dataset_id                                                              title\n",
            "31          cars                               Speed and Stopping Distances of Cars\n",
            "47        mtcars                                         Motor Trend Car Road Tests\n",
            "75          amis                                     Car Speeding and Warning Signs\n",
            "90   co.transfer                                           Carbon Monoxide Transfer\n",
            "93          dogs                                     Cardiac Data for Domestic Dogs\n",
            "155      carrots                                          Insect Damages on Carrots\n",
            "179     toxicity                                  Toxicity of Carboxylic Acids Data\n",
            "273          Car                                  Stated Preferences for Car Choice\n",
            "281        Crime                                            Crime in North Carolina\n",
            "314       MedExp                               Structure of Demand for Medical Care\n",
            "382          mpg  Fuel economy data from 1999 and 2008 for 38 popular models of car\n",
            "432       Cars93                       Data from 93 Cars on Sale in the USA in 1993\n",
            "436    Insurance                                    Numbers of Car Insurance claims\n",
            "469      drivers                     Deaths of Car Drivers in Great Britain 1969-84\n",
            "515        Crime                                            Crime in North Carolina\n"
          ]
        }
      ]
    },
    {
      "cell_type": "code",
      "source": [
        "# Cargar un dataset\n",
        "cars_dataset = data('mtcars')\n",
        "print(cars_dataset.head())"
      ],
      "metadata": {
        "colab": {
          "base_uri": "https://localhost:8080/"
        },
        "id": "9IkDAY0WfV4-",
        "outputId": "42aae596-f98e-4481-abfd-e2bfc91645c7"
      },
      "execution_count": 16,
      "outputs": [
        {
          "output_type": "stream",
          "name": "stdout",
          "text": [
            "                    mpg  cyl   disp   hp  drat     wt   qsec  vs  am  gear  carb\n",
            "Mazda RX4          21.0    6  160.0  110  3.90  2.620  16.46   0   1     4     4\n",
            "Mazda RX4 Wag      21.0    6  160.0  110  3.90  2.875  17.02   0   1     4     4\n",
            "Datsun 710         22.8    4  108.0   93  3.85  2.320  18.61   1   1     4     1\n",
            "Hornet 4 Drive     21.4    6  258.0  110  3.08  3.215  19.44   1   0     3     1\n",
            "Hornet Sportabout  18.7    8  360.0  175  3.15  3.440  17.02   0   0     3     2\n"
          ]
        }
      ]
    }
  ]
}